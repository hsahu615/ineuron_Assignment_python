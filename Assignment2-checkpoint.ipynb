{
 "cells": [
  {
   "cell_type": "code",
   "execution_count": null,
   "metadata": {},
   "outputs": [],
   "source": [
    "# REDUCE\n",
    "def sum(x, y):\n",
    "    return x+y\n",
    "def my_reduce(fun, seq):\n",
    "    first= seq[0]\n",
    "    for i in seq[1:]:\n",
    "        first = fun(i, first)\n",
    "    return first\n",
    "print(my_reduce(sum, [1,2,3,4,5,6,7,8,9]))"
   ]
  },
  {
   "cell_type": "code",
   "execution_count": 8,
   "metadata": {},
   "outputs": [
    {
     "name": "stdout",
     "output_type": "stream",
     "text": [
      "[1, 2, 5]\n"
     ]
    }
   ],
   "source": [
    "# Filter \n",
    "result = []\n",
    "def my_filter(fun, seq):\n",
    "    for i in seq:\n",
    "        if fun(i):\n",
    "            result.append(i)\n",
    "    return result\n",
    "def ispositive(x):\n",
    "    if x<=0:\n",
    "        return False\n",
    "    else:\n",
    "        return True\n",
    "a = my_filter(ispositive, [1,-1,2,5,-8])\n",
    "print(a)"
   ]
  },
  {
   "cell_type": "code",
   "execution_count": 3,
   "metadata": {},
   "outputs": [
    {
     "data": {
      "text/plain": [
       "['A', 'C', 'A', 'D', 'G', 'I', 'L', 'D']"
      ]
     },
     "execution_count": 3,
     "metadata": {},
     "output_type": "execute_result"
    }
   ],
   "source": [
    "#Q. ['A', 'C', 'A', 'D', 'G', 'I', ’L’, ‘ D’]\n",
    "list = [i for i in 'ACADGILD']\n",
    "list"
   ]
  },
  {
   "cell_type": "code",
   "execution_count": 2,
   "metadata": {},
   "outputs": [
    {
     "name": "stdout",
     "output_type": "stream",
     "text": [
      "['x', 'xx', 'xxx', 'xxxx', 'y', 'yy', 'yyy', 'yyyy', 'z', 'zz', 'zzz', 'zzzz']\n"
     ]
    }
   ],
   "source": [
    "#Q. ['x', 'xx', 'xxx', 'xxxx', 'y', 'yy', 'yyy', 'yyyy', 'z', 'zz', 'zzz', 'zzzz']\n",
    "list = [a*b for a in 'xyz'[0:] for b in range(1,5)]\n",
    "print(list)"
   ]
  },
  {
   "cell_type": "code",
   "execution_count": 1,
   "metadata": {},
   "outputs": [
    {
     "data": {
      "text/plain": [
       "['x', 'y', 'z', 'xx', 'yy', 'zz', 'xxx', 'yyy', 'zzz', 'xxxx', 'yyyy', 'zzzz']"
      ]
     },
     "execution_count": 1,
     "metadata": {},
     "output_type": "execute_result"
    }
   ],
   "source": [
    "# ['x', 'y', 'z', 'xx', 'yy', 'zz', 'xxx', 'yyy', 'zzz', 'xxxx', 'yyyy', 'zzzz']\n",
    "inp=['x','y','z']\n",
    "[i*j for i in range(1,5) for j in inp]\n"
   ]
  },
  {
   "cell_type": "code",
   "execution_count": 1,
   "metadata": {},
   "outputs": [
    {
     "name": "stdout",
     "output_type": "stream",
     "text": [
      "[[2], [3], [4], [3], [4], [5], [4], [5], [6]]\n"
     ]
    }
   ],
   "source": [
    "#Q. [[2], [3], [4], [3], [4], [5], [4], [5], [6]]\n",
    "list = [[x+y] for x in range(2,5) for y in range(3)]\n",
    "print(list)"
   ]
  },
  {
   "cell_type": "code",
   "execution_count": 4,
   "metadata": {},
   "outputs": [
    {
     "name": "stdout",
     "output_type": "stream",
     "text": [
      "[[2, 3, 4, 5], [3, 4, 5, 6], [4, 5, 6, 7], [5, 6, 7, 8]]\n"
     ]
    }
   ],
   "source": [
    "#Q. [[2, 3, 4, 5], [3, 4, 5, 6], [4, 5, 6, 7], [5, 6, 7, 8]]\n",
    "a = []\n",
    "b = []\n",
    "for i in range(2,6):\n",
    "    for x in range(4):\n",
    "        a.append(x+i)\n",
    "for d in range(0,13,4):\n",
    "    b.append(a[d:d+4])\n",
    "print(b)"
   ]
  },
  {
   "cell_type": "code",
   "execution_count": 5,
   "metadata": {},
   "outputs": [
    {
     "name": "stdout",
     "output_type": "stream",
     "text": [
      "[(1, 1), (2, 1), (3, 1), (1, 2), (2, 2), (3, 2), (1, 3), (2, 3), (3, 3)]\n"
     ]
    }
   ],
   "source": [
    "#Q. [(1, 1), (2, 1), (3, 1), (1, 2), (2, 2), (3, 2), (1, 3), (2, 3), (3, 3)]\n",
    "c = []\n",
    "for b in range(1,4):\n",
    "    for a in range(1,4):\n",
    "        c.append((a, b))\n",
    "print(c)"
   ]
  },
  {
   "cell_type": "code",
   "execution_count": 4,
   "metadata": {},
   "outputs": [
    {
     "name": "stdout",
     "output_type": "stream",
     "text": [
      "Enter number of words want to enter: 3\n",
      "Enter words: Himanshu\n",
      "Enter words: Sudhanshu\n",
      "Enter words: Kumae\n",
      "Sudhanshu\n"
     ]
    }
   ],
   "source": [
    "# Q. Print Longest Word\n",
    "a = []\n",
    "words = int(input(\"Enter number of words want to enter: \"))\n",
    "c = 0\n",
    "while c<words:\n",
    "    b = input(\"Enter words: \")\n",
    "    a.append(b)\n",
    "    c = c+1\n",
    "length = []\n",
    "max1  = len(a[0])\n",
    "long = a[0]\n",
    "for i in a:\n",
    "    if (len(i)>max1):\n",
    "        max1=len(i)\n",
    "        long = i\n",
    "print(long)"
   ]
  },
  {
   "cell_type": "code",
   "execution_count": 1,
   "metadata": {},
   "outputs": [
    {
     "name": "stdout",
     "output_type": "stream",
     "text": [
      "Enter first side- 10\n",
      "Enter second side- 17\n",
      "Enter third side- 15\n",
      "The area of triangle is- 74.46\n"
     ]
    }
   ],
   "source": [
    "# TASK 2 , 1.1\n",
    "import math\n",
    "class area:\n",
    "    def __init__(self,first,second,third):\n",
    "        self.first=first\n",
    "        self.second=second\n",
    "        self.third=third\n",
    "    def sum(self):\n",
    "        s=(self.first+self.second+self.third)/2\n",
    "        a=round((s*(s-self.first)*(s-self.second)*(s-self.third))**0.5,2 )\n",
    "        return a\n",
    "\n",
    "side_first = int(input(\"Enter first side- \"))\n",
    "side_second = int(input(\"Enter second side- \"))\n",
    "side_third = int(input(\"Enter third side- \"))\n",
    "area_traingle=area(side_first,side_second,side_third)\n",
    "print(\"The area of triangle is- \"+str(area_traingle.sum()))"
   ]
  },
  {
   "cell_type": "code",
   "execution_count": 2,
   "metadata": {
    "scrolled": true
   },
   "outputs": [
    {
     "name": "stdout",
     "output_type": "stream",
     "text": [
      "Enter total number of words: 3\n",
      "Enter words: Himanshu\n",
      "Enter words: Sudhanshu\n",
      "Enter words: Sonu\n",
      "Max length of words to be kept: 4\n",
      "{'Himanshu', 'Sudhanshu'}\n"
     ]
    }
   ],
   "source": [
    "# 1.2\n",
    "long_words = []\n",
    "\n",
    "c = int(input(\"Enter total number of words: \"))\n",
    "for i in range(c):\n",
    "    word = input(\"Enter words: \")\n",
    "    long_words.append(word)\n",
    "n = int(input(\"Max length of words to be kept: \"))\n",
    "new_list = []\n",
    "def filtered(i):\n",
    "    if len(i)>n:\n",
    "        return True\n",
    "    else:\n",
    "        return False\n",
    "a= filter(filtered, long_words)\n",
    "print(set(a))\n"
   ]
  },
  {
   "cell_type": "code",
   "execution_count": 4,
   "metadata": {},
   "outputs": [
    {
     "name": "stdout",
     "output_type": "stream",
     "text": [
      "['hi', 'Himanshu', 'Sahu'] => [2, 8, 4]\n"
     ]
    }
   ],
   "source": [
    "def length(l):\n",
    "    return len(l)\n",
    "li = ['hi','Himanshu','Sahu']\n",
    "print(li,end=\" => \")\n",
    "\n",
    "result = map(length,li) \n",
    "print(list(result))"
   ]
  },
  {
   "cell_type": "code",
   "execution_count": 3,
   "metadata": {},
   "outputs": [
    {
     "name": "stdout",
     "output_type": "stream",
     "text": [
      "Enter the number of characters: 5\n",
      "Enter characters to be filtered: a\n",
      "Enter characters to be filtered: g\n",
      "Enter characters to be filtered: r\n",
      "Enter characters to be filtered: i\n",
      "Enter characters to be filtered: u\n",
      "{'a', 'u', 'i'}\n"
     ]
    }
   ],
   "source": [
    "# 2.2\n",
    "num = int(input(\"Enter the number of characters: \"))\n",
    "char = []\n",
    "for i in range(num):\n",
    "    a = input(\"Enter characters to be filtered: \")\n",
    "    char.append(a)\n",
    "def filtered(i):\n",
    "    vowels = ['a', 'e', 'i', 'o', 'u']\n",
    "    if (i in vowels):\n",
    "        return True\n",
    "    else: \n",
    "        return False\n",
    "final = filter(filtered, char)\n",
    "print(set(final))"
   ]
  }
 ],
 "metadata": {
  "kernelspec": {
   "display_name": "Python 3",
   "language": "python",
   "name": "python3"
  },
  "language_info": {
   "codemirror_mode": {
    "name": "ipython",
    "version": 3
   },
   "file_extension": ".py",
   "mimetype": "text/x-python",
   "name": "python",
   "nbconvert_exporter": "python",
   "pygments_lexer": "ipython3",
   "version": "3.7.6"
  }
 },
 "nbformat": 4,
 "nbformat_minor": 4
}
